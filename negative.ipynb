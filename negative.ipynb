{
 "cells": [
  {
   "cell_type": "code",
   "execution_count": 2,
   "metadata": {},
   "outputs": [
    {
     "name": "stdout",
     "output_type": "stream",
     "text": [
      "2\n",
      "3\n",
      "4\n",
      "5\n",
      "2\n",
      "-1\n",
      "The final result is: 16\n"
     ]
    }
   ],
   "source": [
    "total = 0\n",
    "while True:\n",
    "    number = int(input(\"Enter a number: \"))\n",
    "    print(number)\n",
    "    if number < 0:\n",
    "        break\n",
    "    total += number\n",
    "print(\"The final result is:\", total)"
   ]
  }
 ],
 "metadata": {
  "kernelspec": {
   "display_name": "Python 3",
   "language": "python",
   "name": "python3"
  },
  "language_info": {
   "codemirror_mode": {
    "name": "ipython",
    "version": 3
   },
   "file_extension": ".py",
   "mimetype": "text/x-python",
   "name": "python",
   "nbconvert_exporter": "python",
   "pygments_lexer": "ipython3",
   "version": "3.11.0"
  },
  "orig_nbformat": 4,
  "vscode": {
   "interpreter": {
    "hash": "55d79064c9feea42e3a8cfbb2405178717b1dca6d0bc079cb76543bbdc9394ef"
   }
  }
 },
 "nbformat": 4,
 "nbformat_minor": 2
}
